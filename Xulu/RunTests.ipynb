{
 "cells": [
  {
   "cell_type": "code",
   "execution_count": 1,
   "id": "e96c4370-f68e-4b6e-8133-33cc72672796",
   "metadata": {},
   "outputs": [],
   "source": [
    "from src import my_functions"
   ]
  },
  {
   "cell_type": "code",
   "execution_count": null,
   "id": "5b8289d8-cd7c-4d57-a8ab-70b944307608",
   "metadata": {},
   "outputs": [],
   "source": []
  },
  {
   "cell_type": "code",
   "execution_count": 30,
   "id": "6cfe09db-2e11-42e4-b538-24d519252e52",
   "metadata": {},
   "outputs": [
    {
     "name": "stdout",
     "output_type": "stream",
     "text": [
      "\u001b[1m============================= test session starts ==============================\u001b[0m\n",
      "platform linux -- Python 3.9.7, pytest-7.1.2, pluggy-1.0.0\n",
      "rootdir: /home/jupyter-u6989382/EMSC-4033-2022-assignment-Group1/Xulu\n",
      "plugins: anyio-3.5.0\n",
      "collected 17 items                                                             \u001b[0m\u001b[1m\n",
      "\n",
      "src/test_functions.py \u001b[32m.\u001b[0m\u001b[32m.\u001b[0m\u001b[32m.\u001b[0m\u001b[32m.\u001b[0m\u001b[32m.\u001b[0m\u001b[32m.\u001b[0m\u001b[32m.\u001b[0m\u001b[32m.\u001b[0m\u001b[32m.\u001b[0m\u001b[32m.\u001b[0m\u001b[31mF\u001b[0m\u001b[32m.\u001b[0m\u001b[32m.\u001b[0m\u001b[32m.\u001b[0m\u001b[32m.\u001b[0m\u001b[32m.\u001b[0m\u001b[31m                                   [ 94%]\u001b[0m\n",
      "tests/test_functions.py \u001b[32m.\u001b[0m\u001b[31m                                                [100%]\u001b[0m\n",
      "\n",
      "=================================== FAILURES ===================================\n",
      "\u001b[31m\u001b[1m__________________________ test_download_point_data3 ___________________________\u001b[0m\n",
      "\n",
      "region = [30, 190, 40, -113]\n",
      "\n",
      "    \u001b[94mdef\u001b[39;49;00m \u001b[92mtest_download_point_data3\u001b[39;49;00m (region = [\u001b[94m30\u001b[39;49;00m, \u001b[94m190\u001b[39;49;00m, \u001b[94m40\u001b[39;49;00m, -\u001b[94m113\u001b[39;49;00m]):\n",
      "        \u001b[33m'''Verify the type of the input parameter of download_point_data, the type of each item inside the input parameter,\u001b[39;49;00m\n",
      "    \u001b[33m       and if the item value is feasible.\u001b[39;49;00m\n",
      "    \u001b[33m       Assertion:\u001b[39;49;00m\n",
      "    \u001b[33m       True: 1) the input parameter is a list.\u001b[39;49;00m\n",
      "    \u001b[33m             2) the item inside the input parameter is a float number.\u001b[39;49;00m\n",
      "    \u001b[33m             3) the item value is a meaningful geographical coordinate.\u001b[39;49;00m\n",
      "    \u001b[33m\u001b[39;49;00m\n",
      "    \u001b[33m       False: 1) TypeError. 2) TypeError. 3) ValueError.\u001b[39;49;00m\n",
      "    \u001b[33m    '''\u001b[39;49;00m\n",
      "        \u001b[94mif\u001b[39;49;00m \u001b[96mtype\u001b[39;49;00m (region) == \u001b[96mlist\u001b[39;49;00m: \u001b[90m#check the type of 'region'\u001b[39;49;00m\n",
      "    \n",
      "            \u001b[90m#check the type of coordinates in region list\u001b[39;49;00m\n",
      "            \u001b[94mfor\u001b[39;49;00m coordinate \u001b[95min\u001b[39;49;00m region:\n",
      "                \u001b[94mif\u001b[39;49;00m \u001b[96mtype\u001b[39;49;00m (coordinate) == \u001b[96mfloat\u001b[39;49;00m \u001b[95mor\u001b[39;49;00m \u001b[96mint\u001b[39;49;00m:\n",
      "                    \u001b[94mpass\u001b[39;49;00m\n",
      "                \u001b[94melse\u001b[39;49;00m:\n",
      "                    \u001b[94mraise\u001b[39;49;00m \u001b[96mTypeError\u001b[39;49;00m (\u001b[33m\"\u001b[39;49;00m\u001b[33mregion coordinate must be a float number\u001b[39;49;00m\u001b[33m\"\u001b[39;49;00m)\n",
      "    \n",
      "            \u001b[90m#check if the latitudes are valid\u001b[39;49;00m\n",
      "            \u001b[94mif\u001b[39;49;00m -\u001b[94m90\u001b[39;49;00m <= region[\u001b[94m0\u001b[39;49;00m] <= \u001b[94m90\u001b[39;49;00m \u001b[95mand\u001b[39;49;00m -\u001b[94m90\u001b[39;49;00m <= region[\u001b[94m2\u001b[39;49;00m] <= \u001b[94m90\u001b[39;49;00m:\n",
      "                \u001b[94mpass\u001b[39;49;00m\n",
      "            \u001b[94melse\u001b[39;49;00m: \u001b[94mraise\u001b[39;49;00m \u001b[96mValueError\u001b[39;49;00m (\u001b[33m\"\u001b[39;49;00m\u001b[33mregion latitude should be a float number in the range of [-90,90].\u001b[39;49;00m\u001b[33m\"\u001b[39;49;00m)\n",
      "    \n",
      "            \u001b[90m#check if the longitudes are valid\u001b[39;49;00m\n",
      "            \u001b[94mif\u001b[39;49;00m -\u001b[94m180\u001b[39;49;00m <= region[\u001b[94m1\u001b[39;49;00m] <= \u001b[94m180\u001b[39;49;00m \u001b[95mand\u001b[39;49;00m -\u001b[94m180\u001b[39;49;00m <= region[\u001b[94m3\u001b[39;49;00m] <= \u001b[94m180\u001b[39;49;00m:\n",
      "                \u001b[94mpass\u001b[39;49;00m\n",
      ">           \u001b[94melse\u001b[39;49;00m: \u001b[94mraise\u001b[39;49;00m \u001b[96mValueError\u001b[39;49;00m (\u001b[33m\"\u001b[39;49;00m\u001b[33mregion longitude should be a float number in the range of [-180,180].\u001b[39;49;00m\u001b[33m\"\u001b[39;49;00m)\n",
      "\u001b[1m\u001b[31mE           ValueError: region longitude should be a float number in the range of [-180,180].\u001b[0m\n",
      "\n",
      "\u001b[1m\u001b[31msrc/test_functions.py\u001b[0m:164: ValueError\n",
      "=========================== short test summary info ============================\n",
      "FAILED src/test_functions.py::test_download_point_data3 - ValueError: region ...\n",
      "\u001b[31m========================= \u001b[31m\u001b[1m1 failed\u001b[0m, \u001b[32m16 passed\u001b[0m\u001b[31m in 4.88s\u001b[0m\u001b[31m =========================\u001b[0m\n"
     ]
    }
   ],
   "source": [
    "! pytest"
   ]
  },
  {
   "cell_type": "code",
   "execution_count": null,
   "id": "016f350e-1f57-4a99-867a-24692bbba922",
   "metadata": {},
   "outputs": [],
   "source": []
  }
 ],
 "metadata": {
  "kernelspec": {
   "display_name": "Python 3 (ipykernel)",
   "language": "python",
   "name": "python3"
  },
  "language_info": {
   "codemirror_mode": {
    "name": "ipython",
    "version": 3
   },
   "file_extension": ".py",
   "mimetype": "text/x-python",
   "name": "python",
   "nbconvert_exporter": "python",
   "pygments_lexer": "ipython3",
   "version": "3.9.7"
  }
 },
 "nbformat": 4,
 "nbformat_minor": 5
}
