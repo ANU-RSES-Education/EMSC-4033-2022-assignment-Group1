{
 "cells": [
  {
   "cell_type": "code",
   "execution_count": 1,
   "id": "e96c4370-f68e-4b6e-8133-33cc72672796",
   "metadata": {},
   "outputs": [
    {
     "name": "stdout",
     "output_type": "stream",
     "text": [
      "Chosen coastline resolution is: 50m\n"
     ]
    }
   ],
   "source": [
    "from tests import test_functions"
   ]
  },
  {
   "cell_type": "code",
   "execution_count": 2,
   "id": "6cfe09db-2e11-42e4-b538-24d519252e52",
   "metadata": {},
   "outputs": [
    {
     "name": "stdout",
     "output_type": "stream",
     "text": [
      "\u001b[1m============================= test session starts ==============================\u001b[0m\n",
      "platform linux -- Python 3.9.7, pytest-7.1.2, pluggy-1.0.0\n",
      "rootdir: /home/jupyter-u6668899/EMSC-4033-2022-assignment-Group1/Sam L\n",
      "plugins: anyio-3.5.0\n",
      "collected 18 items                                                             \u001b[0m\u001b[1m\n",
      "\n",
      "tests/test_functions.py \u001b[32m.\u001b[0m\u001b[32m.\u001b[0m\u001b[32m.\u001b[0m\u001b[32m.\u001b[0m\u001b[32m.\u001b[0m\u001b[32m.\u001b[0m\u001b[32m.\u001b[0m\u001b[32m.\u001b[0m\u001b[32m.\u001b[0m\u001b[32m.\u001b[0m\u001b[32m.\u001b[0m\u001b[32m.\u001b[0m\u001b[32m.\u001b[0m\u001b[32m.\u001b[0m\u001b[32m.\u001b[0m\u001b[32m.\u001b[0m\u001b[32m.\u001b[0m\u001b[32m.\u001b[0m\u001b[33m                               [100%]\u001b[0m\n",
      "\n",
      "\u001b[33m=============================== warnings summary ===============================\u001b[0m\n",
      "tests/test_functions.py::test_my_basemaps_isdict\n",
      "tests/test_functions.py::test_my_basemaps_testlen\n",
      "tests/test_functions.py::test_my_basemaps_contains\n",
      "tests/test_functions.py::test_my_basemaps_tile\n",
      "  /home/jupyter-u6668899/EMSC-4033-2022-assignment-Group1/Sam L/tests/src/my_functions.py:153: DeprecationWarning: The StamenTerrain class was deprecated in v0.17. Please use Stamen('terrain-background') instead.\n",
      "    mapper[\"stamen_terrain\"] = cimgt.StamenTerrain()\n",
      "\n",
      "tests/test_functions.py::test_Download_point_imports\n",
      "tests/test_functions.py::test_Download_point_type\n",
      "tests/test_functions.py::test_Download_point_dim\n",
      "tests/test_functions.py::test_Download_point_shape\n",
      "  /home/jupyter-u6668899/EMSC-4033-2022-assignment-Group1/Sam L/tests/src/my_functions.py:211: SettingWithCopyWarning: \n",
      "  A value is trying to be set on a copy of a slice from a DataFrame\n",
      "  \n",
      "  See the caveats in the documentation: https://pandas.pydata.org/pandas-docs/stable/user_guide/indexing.html#returning-a-view-versus-a-copy\n",
      "    df['Lat [°]'].loc[ii] = cat[ii].origins[0].latitude\n",
      "\n",
      "tests/test_functions.py::test_Download_point_imports\n",
      "tests/test_functions.py::test_Download_point_type\n",
      "tests/test_functions.py::test_Download_point_dim\n",
      "tests/test_functions.py::test_Download_point_shape\n",
      "  /home/jupyter-u6668899/EMSC-4033-2022-assignment-Group1/Sam L/tests/src/my_functions.py:212: SettingWithCopyWarning: \n",
      "  A value is trying to be set on a copy of a slice from a DataFrame\n",
      "  \n",
      "  See the caveats in the documentation: https://pandas.pydata.org/pandas-docs/stable/user_guide/indexing.html#returning-a-view-versus-a-copy\n",
      "    df['mag'].loc[ii] = cat[ii].magnitudes[0].mag\n",
      "\n",
      "tests/test_functions.py::test_Download_point_imports\n",
      "tests/test_functions.py::test_Download_point_type\n",
      "tests/test_functions.py::test_Download_point_dim\n",
      "tests/test_functions.py::test_Download_point_shape\n",
      "  /home/jupyter-u6668899/EMSC-4033-2022-assignment-Group1/Sam L/tests/src/my_functions.py:213: SettingWithCopyWarning: \n",
      "  A value is trying to be set on a copy of a slice from a DataFrame\n",
      "  \n",
      "  See the caveats in the documentation: https://pandas.pydata.org/pandas-docs/stable/user_guide/indexing.html#returning-a-view-versus-a-copy\n",
      "    df['event_type'].loc[ii] = 3\n",
      "\n",
      "-- Docs: https://docs.pytest.org/en/stable/how-to/capture-warnings.html\n",
      "\u001b[33m======================= \u001b[32m18 passed\u001b[0m, \u001b[33m\u001b[1m16 warnings\u001b[0m\u001b[33m in 5.48s\u001b[0m\u001b[33m ========================\u001b[0m\n"
     ]
    }
   ],
   "source": [
    "! pytest"
   ]
  },
  {
   "cell_type": "code",
   "execution_count": null,
   "id": "016f350e-1f57-4a99-867a-24692bbba922",
   "metadata": {},
   "outputs": [],
   "source": []
  }
 ],
 "metadata": {
  "kernelspec": {
   "display_name": "Python 3 (ipykernel)",
   "language": "python",
   "name": "python3"
  },
  "language_info": {
   "codemirror_mode": {
    "name": "ipython",
    "version": 3
   },
   "file_extension": ".py",
   "mimetype": "text/x-python",
   "name": "python",
   "nbconvert_exporter": "python",
   "pygments_lexer": "ipython3",
   "version": "3.9.7"
  }
 },
 "nbformat": 4,
 "nbformat_minor": 5
}
